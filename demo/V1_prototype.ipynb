{
 "cells": [
  {
   "attachments": {},
   "cell_type": "markdown",
   "metadata": {},
   "source": [
    "## RxConnect V1 Prototype\n",
    "### Import Libraries\n",
    "The major components are written into separate sub-packages:\n",
    "\n",
    "1. RxImageGenerator: Synthetic image generator.\n",
    "\n",
    "2. RxDetection: Pill detection and counting.\n",
    "\n",
    "3. RxSegmentation: Image segmentation for pill vs background.\n",
    "\n",
    "4. RxVectorization: Similarity between reference image vs detected pills.\n",
    "\n",
    "5. RxImageVerify: The image container that holds the image and automatically triggers the ML operations."
   ]
  },
  {
   "cell_type": "code",
   "execution_count": null,
   "metadata": {},
   "outputs": [],
   "source": [
    "from IPython.display import clear_output\n",
    "from rx_connect import PIPELINES_DIR\n",
    "from rx_connect.pipelines.generator import RxImageGenerator\n",
    "from rx_connect.pipelines.detection import RxDetection\n",
    "from rx_connect.pipelines.segment import RxSegmentation\n",
    "from rx_connect.pipelines.vectorizer import RxVectorizerML, RxVectorizerColorMomentHash\n",
    "from rx_connect.pipelines.image import RxVision\n",
    "\n",
    "%load_ext autoreload\n",
    "%autoreload 2\n",
    "clear_output()"
   ]
  },
  {
   "attachments": {},
   "cell_type": "markdown",
   "metadata": {},
   "source": [
    "### Toolboxes\n",
    "These toolbox objects are initialized once and ready to be used for all the image instances created."
   ]
  },
  {
   "cell_type": "code",
   "execution_count": null,
   "metadata": {},
   "outputs": [],
   "source": [
    "# Prepare image generator\n",
    "generatorObj = RxImageGenerator(num_pills_type=2)\n",
    "\n",
    "# Prepare pill counter\n",
    "counterObj = RxDetection()\n",
    "\n",
    "# If need full seg, use SAM. Otherwise leave the original for YOLO ROI seg.\n",
    "config_file_SAM = f\"{PIPELINES_DIR}/configs/Dev/segment_SAM_config.yml\"\n",
    "\n",
    "# Prepare segmentation object\n",
    "segmentObj = RxSegmentation()\n",
    "\n",
    "# Prepare vectorizer object\n",
    "vectorizerObj = RxVectorizerColorMomentHash()"
   ]
  },
  {
   "attachments": {},
   "cell_type": "markdown",
   "metadata": {},
   "source": [
    "### Image instances\n",
    "\n",
    "Step 1: Create image and ground-truths.\n",
    "\n",
    "Step 2: Detect pills in the image.\n",
    "\n",
    "Step 3: Segment the pill pixels from the entire Region-of-Interest (ROI).\n",
    "\n",
    "Step 4: Compare the found pills to reference pills, and generate similarity scores."
   ]
  },
  {
   "cell_type": "code",
   "execution_count": null,
   "metadata": {},
   "outputs": [],
   "source": [
    "imageObj = RxVision() # class that includes all functions\n",
    "imageObj.set_counter(counterObj)\n",
    "imageObj.set_segmenter(segmentObj)\n",
    "imageObj.set_vectorizer(vectorizerObj)\n",
    "\n",
    "imageObj.load_from_generator(generatorObj)\n",
    "imageObj.visualize()\n",
    "\n",
    "print(f\"Found {imageObj.pill_count} pills.\")\n",
    "imageObj.visualize_ROIs()\n",
    "imageObj.visualize_bounding_boxes()\n",
    "\n",
    "imageObj.visualize_ROI_segmentation()\n",
    "imageObj.visualize_masked_ROIs()\n",
    "\n",
    "imageObj.visualize_similarity_scores()"
   ]
  }
 ],
 "metadata": {
  "kernelspec": {
   "display_name": "RxConnect",
   "language": "python",
   "name": "python3"
  },
  "language_info": {
   "codemirror_mode": {
    "name": "ipython",
    "version": 3
   },
   "file_extension": ".py",
   "mimetype": "text/x-python",
   "name": "python",
   "nbconvert_exporter": "python",
   "pygments_lexer": "ipython3",
   "version": "3.10.12"
  },
  "orig_nbformat": 4
 },
 "nbformat": 4,
 "nbformat_minor": 2
}
