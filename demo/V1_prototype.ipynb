{
 "cells": [
  {
   "cell_type": "code",
   "execution_count": null,
   "metadata": {},
   "outputs": [],
   "source": [
    "from IPython.display import clear_output\n",
    "from rx_connect.types.generator import RxImageGenerator\n",
    "from rx_connect.types.detection import RxDetection\n",
    "from rx_connect.types.segment import RxSegmentation\n",
    "from rx_connect.types.verification import RxVectorization\n",
    "from rx_connect.types.image import RxImageVerify\n",
    "\n",
    "%load_ext autoreload\n",
    "%autoreload 2\n",
    "clear_output()"
   ]
  },
  {
   "cell_type": "code",
   "execution_count": null,
   "metadata": {},
   "outputs": [],
   "source": [
    "# Prepare image generator\n",
    "generatorObj = RxImageGenerator()\n",
    "\n",
    "# Prepare pill counter\n",
    "counterObj = RxDetection()\n",
    "\n",
    "# Prepare segmentation object\n",
    "segmentObj = RxSegmentation()\n",
    "\n",
    "# Prepare vectorizer object\n",
    "vectorizerObj = RxVectorization()"
   ]
  },
  {
   "cell_type": "code",
   "execution_count": null,
   "metadata": {},
   "outputs": [],
   "source": [
    "imageObj = RxImageVerify() # class that includes all functions\n",
    "imageObj.load_from_generator(generatorObj)\n",
    "imageObj.visualize()\n",
    "\n",
    "imageObj.set_counter(counterObj)\n",
    "print(f\"Found {imageObj.pill_count} pills.\")\n",
    "imageObj.visualize_ROIs()\n",
    "imageObj.visualize_bounding_boxes()\n",
    "\n",
    "imageObj.set_segmenter(segmentObj)\n",
    "\n",
    "imageObj.set_vectorizer(vectorizerObj)\n",
    "imageObj.visualize_similarity_scores()"
   ]
  },
  {
   "cell_type": "code",
   "execution_count": null,
   "metadata": {},
   "outputs": [],
   "source": [
    "imageObj.visualize_background()\n",
    "imageObj.visualize_cropped_segmentation()"
   ]
  }
 ],
 "metadata": {
  "kernelspec": {
   "display_name": "RxConnect",
   "language": "python",
   "name": "python3"
  },
  "language_info": {
   "codemirror_mode": {
    "name": "ipython",
    "version": 3
   },
   "file_extension": ".py",
   "mimetype": "text/x-python",
   "name": "python",
   "nbconvert_exporter": "python",
   "pygments_lexer": "ipython3",
   "version": "3.10.11"
  },
  "orig_nbformat": 4
 },
 "nbformat": 4,
 "nbformat_minor": 2
}
