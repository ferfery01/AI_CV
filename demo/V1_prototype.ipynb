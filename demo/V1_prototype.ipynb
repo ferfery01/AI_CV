{
 "cells": [
  {
   "cell_type": "code",
   "execution_count": null,
   "metadata": {},
   "outputs": [],
   "source": [
    "from rx_connect.types.generator import RxImageGenerator\n",
    "from rx_connect.types.image import *\n",
    "\n",
    "import torchshow as ts\n",
    "%load_ext autoreload\n",
    "%autoreload 2"
   ]
  },
  {
   "cell_type": "code",
   "execution_count": null,
   "metadata": {},
   "outputs": [],
   "source": [
    "# Prepare image generator\n",
    "generatorObj = RxImageGenerator()\n",
    "\n",
    "# Prepare pill counter\n",
    "counter_cfg = \"../rx_connect/types/configs/Dev/counter_config.yml\"\n",
    "counterObj = RxDetection(counter_cfg)\n",
    "\n",
    "# Prepare segmentation object\n",
    "segment_cfg = \"../rx_connect/types/configs/Dev/segment_config.yml\"\n",
    "segmentObj = RxSegmentation(segment_cfg)\n",
    "\n",
    "# Prepare vectorizer object\n",
    "vectorizerObj = RxVectorization()\n"
   ]
  },
  {
   "cell_type": "code",
   "execution_count": null,
   "metadata": {},
   "outputs": [],
   "source": [
    "imageObj = RxImageVerify() # class that includes all functions\n",
    "imageObj.load_from_generator(generatorObj)\n",
    "imageObj.visualize()\n",
    "\n",
    "imageObj.set_counter(counterObj)\n",
    "print(f\"Found {imageObj.pill_count} pills.\")\n",
    "imageObj.visualize_ROIs()\n",
    "imageObj.visualize_bounding_boxes()\n",
    "\n",
    "imageObj.set_segmenter(segmentObj)\n",
    "\n",
    "imageObj.set_vectorizer(vectorizerObj)\n",
    "imageObj.visualize_similarity_scores()"
   ]
  },
  {
   "cell_type": "code",
   "execution_count": null,
   "metadata": {},
   "outputs": [],
   "source": [
    "\n",
    "imageObj.visualize_background()\n",
    "imageObj.visualize_cropped_segmentation()"
   ]
  },
  {
   "cell_type": "code",
   "execution_count": null,
   "metadata": {},
   "outputs": [],
   "source": []
  }
 ],
 "metadata": {
  "kernelspec": {
   "display_name": "RxConnect",
   "language": "python",
   "name": "python3"
  },
  "language_info": {
   "codemirror_mode": {
    "name": "ipython",
    "version": 3
   },
   "file_extension": ".py",
   "mimetype": "text/x-python",
   "name": "python",
   "nbconvert_exporter": "python",
   "pygments_lexer": "ipython3",
   "version": "3.10.11"
  },
  "orig_nbformat": 4
 },
 "nbformat": 4,
 "nbformat_minor": 2
}
